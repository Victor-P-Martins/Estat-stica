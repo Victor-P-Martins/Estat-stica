{
 "cells": [
  {
   "cell_type": "markdown",
   "metadata": {},
   "source": [
    "# Estudo de estatística com python"
   ]
  },
  {
   "cell_type": "markdown",
   "metadata": {},
   "source": [
    "Estudos baseados no livro Estatística Básica de Wilton de O. Bussab e Pedro A. Morettin"
   ]
  },
  {
   "cell_type": "markdown",
   "metadata": {},
   "source": [
    "Os dados utilizados se encontram em https://www.ime.usp.br/~pam/EstBas.html"
   ]
  },
  {
   "cell_type": "markdown",
   "metadata": {},
   "source": [
    "## 1 - Importações de bibliotecas importantes para as análises"
   ]
  },
  {
   "cell_type": "code",
   "execution_count": 49,
   "metadata": {},
   "outputs": [],
   "source": [
    "#Importação de bibliotecas\n",
    "import pandas as pd\n",
    "import sklearn as skl\n",
    "import seaborn as sns\n",
    "import numpy as np\n",
    "from matplotlib import pyplot as plt\n",
    "import matplotlib\n",
    "\n",
    "import warnings\n",
    "warnings.filterwarnings(\"ignore\")"
   ]
  },
  {
   "cell_type": "markdown",
   "metadata": {},
   "source": [
    "Resumo dos símbolos matematicos utilizados\n",
    "\n",
    "$\\bar x$ -> Média da amostra X (Fala-se X Barra)\n",
    "\n",
    "$\\mathrm\\sum_{i=2}^{5} 2^i$ -> Símbolo de somatória o valor abaixo do símbolo é a posição inicial da somatória e o valor\n",
    "\n",
    "acima é o final. Nesse caso ficaria $2^2 + 2^3 + 2^4 + 2^5$\n",
    "\n",
    "$\\begin{vmatrix} x \\end{vmatrix}$ -> Módulo de X."
   ]
  },
  {
   "cell_type": "markdown",
   "metadata": {},
   "source": [
    "## 2 - Resumo de Dados"
   ]
  },
  {
   "cell_type": "markdown",
   "metadata": {},
   "source": [
    "### 2.1 - Tipos de Variáveis"
   ]
  },
  {
   "cell_type": "markdown",
   "metadata": {},
   "source": [
    "Para esta parte utilizaremos a base de dados Tabela 2.1 que contém dados dos funcionarios de uma empresa"
   ]
  },
  {
   "cell_type": "code",
   "execution_count": 4,
   "metadata": {},
   "outputs": [],
   "source": [
    "# Lendo a tabela 2.1 do arquivo CSV\n",
    "df_tabela_2_1 = pd.read_csv(filepath_or_buffer=\"./Data/Tabela 2.1.csv\",encoding='latin1',delimiter=';')\n",
    "#Transformando a coluna Salario(x Sal Min) em tipo float\n",
    "df_tabela_2_1['Salario (x Sal Min)'] = df_tabela_2_1['Salario (x Sal Min)'].str.replace(',','.')\n",
    "df_tabela_2_1['Salario (x Sal Min)'] = df_tabela_2_1['Salario (x Sal Min)'].astype(float)\n"
   ]
  },
  {
   "cell_type": "code",
   "execution_count": 5,
   "metadata": {},
   "outputs": [
    {
     "data": {
      "text/html": [
       "<div>\n",
       "<style scoped>\n",
       "    .dataframe tbody tr th:only-of-type {\n",
       "        vertical-align: middle;\n",
       "    }\n",
       "\n",
       "    .dataframe tbody tr th {\n",
       "        vertical-align: top;\n",
       "    }\n",
       "\n",
       "    .dataframe thead th {\n",
       "        text-align: right;\n",
       "    }\n",
       "</style>\n",
       "<table border=\"1\" class=\"dataframe\">\n",
       "  <thead>\n",
       "    <tr style=\"text-align: right;\">\n",
       "      <th></th>\n",
       "      <th>Estado Civil</th>\n",
       "      <th>Grau de Instrução</th>\n",
       "      <th>N de Filhos</th>\n",
       "      <th>Salario (x Sal Min)</th>\n",
       "      <th>Anos</th>\n",
       "      <th>Meses</th>\n",
       "      <th>Região de Procedência</th>\n",
       "    </tr>\n",
       "  </thead>\n",
       "  <tbody>\n",
       "    <tr>\n",
       "      <th>0</th>\n",
       "      <td>solteiro</td>\n",
       "      <td>ensino fundamental</td>\n",
       "      <td>NaN</td>\n",
       "      <td>4.00</td>\n",
       "      <td>26</td>\n",
       "      <td>3</td>\n",
       "      <td>interior</td>\n",
       "    </tr>\n",
       "    <tr>\n",
       "      <th>1</th>\n",
       "      <td>casado</td>\n",
       "      <td>ensino fundamental</td>\n",
       "      <td>1.0</td>\n",
       "      <td>4.56</td>\n",
       "      <td>32</td>\n",
       "      <td>10</td>\n",
       "      <td>capital</td>\n",
       "    </tr>\n",
       "    <tr>\n",
       "      <th>2</th>\n",
       "      <td>casado</td>\n",
       "      <td>ensino fundamental</td>\n",
       "      <td>2.0</td>\n",
       "      <td>5.25</td>\n",
       "      <td>36</td>\n",
       "      <td>5</td>\n",
       "      <td>capital</td>\n",
       "    </tr>\n",
       "    <tr>\n",
       "      <th>3</th>\n",
       "      <td>solteiro</td>\n",
       "      <td>ensino médio</td>\n",
       "      <td>NaN</td>\n",
       "      <td>5.73</td>\n",
       "      <td>20</td>\n",
       "      <td>10</td>\n",
       "      <td>outra</td>\n",
       "    </tr>\n",
       "    <tr>\n",
       "      <th>4</th>\n",
       "      <td>solteiro</td>\n",
       "      <td>ensino fundamental</td>\n",
       "      <td>NaN</td>\n",
       "      <td>6.26</td>\n",
       "      <td>40</td>\n",
       "      <td>7</td>\n",
       "      <td>outra</td>\n",
       "    </tr>\n",
       "  </tbody>\n",
       "</table>\n",
       "</div>"
      ],
      "text/plain": [
       "  Estado Civil   Grau de Instrução  N de Filhos  Salario (x Sal Min)  Anos  \\\n",
       "0     solteiro  ensino fundamental          NaN                 4.00    26   \n",
       "1       casado  ensino fundamental          1.0                 4.56    32   \n",
       "2       casado  ensino fundamental          2.0                 5.25    36   \n",
       "3     solteiro        ensino médio          NaN                 5.73    20   \n",
       "4     solteiro  ensino fundamental          NaN                 6.26    40   \n",
       "\n",
       "   Meses Região de Procedência  \n",
       "0      3              interior  \n",
       "1     10               capital  \n",
       "2      5               capital  \n",
       "3     10                 outra  \n",
       "4      7                 outra  "
      ]
     },
     "execution_count": 5,
     "metadata": {},
     "output_type": "execute_result"
    }
   ],
   "source": [
    "# 5 Primeiras 5 aparições da Tabela 2.1\n",
    "df_tabela_2_1.head()"
   ]
  },
  {
   "cell_type": "markdown",
   "metadata": {},
   "source": [
    "Existem 7 variáveis no estudo.\n",
    "\n",
    "-   Estado Civil -> Solteiro ou Casado\n",
    "\n",
    "-   Grau de Instrução -> Ensino Fundamental, Ensino médio ou Ensino Superior\n",
    "\n",
    "-   N de Filhos -> Quantidade de filhos\n",
    "\n",
    "-   Salario(x Sal Min) -> Número de salários multiplicados pelo salário mínimo vigente\n",
    "\n",
    "-   Anos -> Idade da pessoa em anos completos\n",
    "\n",
    "-   Meses -> Idade da pessoa meses completos\n",
    "\n",
    "-   Região de Procedência -> Interior, Capital ou outra"
   ]
  },
  {
   "cell_type": "markdown",
   "metadata": {},
   "source": [
    "#### Tipos de variáveis"
   ]
  },
  {
   "cell_type": "markdown",
   "metadata": {},
   "source": [
    "**Quantitativas** -> Apresentam possíveis realizações números resultantes de contagens ou mensurações. \n",
    "\n",
    "    Exemplos: Número de Filhos, Salário, Idade em anos e Meses.\n",
    "\n",
    "**Qualitativas** -> Apresentam como possíveis realizações uma qualidade (ou atributo) do indivíduo pesquisado. \n",
    "\n",
    "    Exemplos: Estado Civil, Grau de instrução, Região de Procedência."
   ]
  },
  {
   "cell_type": "markdown",
   "metadata": {},
   "source": [
    "#### Variáveis Quantitativas\n"
   ]
  },
  {
   "cell_type": "markdown",
   "metadata": {},
   "source": [
    "Variáveis quantitativas podem ser dividas em dois grupos\n",
    "\n",
    "**Variáveis quantitativas discretas** -> Os valores formam um conjunto finito ou enumerável de números, que resultam frequentemente em uma contagem.\n",
    "\n",
    "    Exemplos: Número de Filhos (1,2,3,...n), Idade completa em anos\n",
    "\n",
    "**Variáveis quantitativas contínuas** -> Os valores pertencem a um intervalo de números reais e que resultam de uma mensuração.\n",
    "\n",
    "    Exemplos: Salário, Idade medida em anos e meses"
   ]
  },
  {
   "cell_type": "markdown",
   "metadata": {},
   "source": [
    "#### Variáveis Qualitativas"
   ]
  },
  {
   "cell_type": "markdown",
   "metadata": {},
   "source": [
    "Variáveis qualitativas também se dividem em dois grupos\n",
    "\n",
    "**Variáveis Qualitativas Nominais** -> Variáveis para qual não existe nenhum tipo de ordenação.\n",
    "\n",
    "    Exemplo: Estado Civil, Região de procedência\n",
    "\n",
    "**Variáveis Qualitativas Ordinais** -> Variáveis para qual existe uma ordem no seu resultado\n",
    "\n",
    "    Exemplo: Grau de instrução (O mais baixo é o nível fundamental, médio, superior e assim por diante)"
   ]
  },
  {
   "cell_type": "markdown",
   "metadata": {},
   "source": [
    "<center><img src=\"https://www.inf.ufsc.br/~andre.zibetti/probabilidade/img/classificacao_variaveis.png\"/></center>"
   ]
  },
  {
   "cell_type": "markdown",
   "metadata": {},
   "source": [
    "### 2.2 Distribuição de frequências"
   ]
  },
  {
   "cell_type": "markdown",
   "metadata": {},
   "source": [
    "Quando se estuda uma variável, o maior interesse é conhecer o comportamento dessa variável, analisando a ocorrência de suas possíveis realizações."
   ]
  },
  {
   "cell_type": "code",
   "execution_count": 6,
   "metadata": {},
   "outputs": [
    {
     "data": {
      "text/plain": [
       "ensino médio          18\n",
       "ensino fundamental    12\n",
       "superior               6\n",
       "Name: Grau de Instrução, dtype: int64"
      ]
     },
     "execution_count": 6,
     "metadata": {},
     "output_type": "execute_result"
    }
   ],
   "source": [
    "#Frequência (absoluta) do Grau de instrução (n1)\n",
    "df_tabela_2_1['Grau de Instrução'].value_counts()"
   ]
  },
  {
   "cell_type": "code",
   "execution_count": 7,
   "metadata": {},
   "outputs": [
    {
     "data": {
      "text/plain": [
       "ensino médio          0.500000\n",
       "ensino fundamental    0.333333\n",
       "superior              0.166667\n",
       "Name: Grau de Instrução, dtype: float64"
      ]
     },
     "execution_count": 7,
     "metadata": {},
     "output_type": "execute_result"
    }
   ],
   "source": [
    "#Proporção do grau de instrução ou frequência relativa (fi = n1/n)\n",
    "df_tabela_2_1['Grau de Instrução'].value_counts()/df_tabela_2_1['Grau de Instrução'].count()"
   ]
  },
  {
   "cell_type": "code",
   "execution_count": 8,
   "metadata": {},
   "outputs": [
    {
     "data": {
      "text/plain": [
       "ensino médio          50.000000\n",
       "ensino fundamental    33.333333\n",
       "superior              16.666667\n",
       "Name: Grau de Instrução, dtype: float64"
      ]
     },
     "execution_count": 8,
     "metadata": {},
     "output_type": "execute_result"
    }
   ],
   "source": [
    "#Proporção do grau de instrução em porcentagem ()\n",
    "(df_tabela_2_1['Grau de Instrução'].value_counts()/df_tabela_2_1['Grau de Instrução'].count())*100"
   ]
  },
  {
   "cell_type": "markdown",
   "metadata": {},
   "source": [
    "Observando os resultados vê-se que dos 36 empregados da companhia 12 tem ensino fundamental, 18 médio e 6 superior.\n",
    "\n",
    "Uma maneira útil de analisarmos esses dados é dividindo o valor de cada variável pelo total obtendo uma proporção em relação ao total da amostra.\n",
    "\n",
    "Multiplicando por 100 temos o percentual relativo daquela variável."
   ]
  },
  {
   "cell_type": "markdown",
   "metadata": {},
   "source": [
    "### 2.3 Escala de medidas"
   ]
  },
  {
   "cell_type": "markdown",
   "metadata": {},
   "source": [
    "Escalas de medidas são critérios para classificas variáveis, em função da escala adotada. Existem quatro escalas que podem ser consideradas\n",
    "\n",
    "-   **Escala Nominal** -> Escala nominal permite apenas identificar se uma medida é diferente da outra, assemelha-se ao boolean ou relação binária. Exemplo, uma variável sexo onde existem Masculino ou Feminino sendo masculino 1 e feminino 0, ou M e F e assim por diante.\n",
    "\n",
    "Medidas de posição apropriadas são: Moda\n",
    "  \n",
    "-   **Escala Ordinal** ->  De forma semelhante a Escala nominal definimos um número para a medida, porém, dessa vez a há uma ordenação na escala. Por exemplo o grau de instrução, onde 1 é o Ensino Fundamental, 2 o Ensino Médio e 3 o Ensino Superior. Dessa forma temos 3>2>1\n",
    "\n",
    "Medidas de posição apropriadas são: Mediana e Moda\n",
    "\n",
    "-   **Escala Intervalar** -> Nesta escala podemos afirmar que uma medida é igual ou diferente de outra, maior e o quanto maior que outra. Podemos quantificar a diferença da escala ordinal. É necessário uma origem arbitrária e uma unidade de medida. Exemplo, 0ºF é a origem e 1ºF é a unidade da escala de graus Fahrenheit. 0ºC não é igual a 0ºF. Para compararmos as duas medidas precisamos de uma transformação, no caso para transformar F em C é preciso usar a formula y=5/9(x-32)\n",
    "\n",
    "Medidas de posição apropriadas são: Média, mediana e moda.  \n",
    "\n",
    "-   **Escala Razão** -> Nesta escala semelhante a escala intervalar é possível comparar medidas, se são iguais, maiores, o quanto maiores e quantas vezes maior. A diferença principal é que a Escala razão possui um zero absoluto. Por exemplo, a unidade de medida da altura é o cm. Todas as alturas começam em 0 cm. Mesmo alterando a unidade para metros as equivalências e comparações permanecem.\n",
    "\n",
    "Medidas de posição apropriadas são: Média, mediana e moda. "
   ]
  },
  {
   "cell_type": "markdown",
   "metadata": {},
   "source": [
    "### 2.4 Gráficos"
   ]
  },
  {
   "cell_type": "markdown",
   "metadata": {},
   "source": [
    "#### 2.4.1 Gráficos para Variáveis Qualitativas"
   ]
  },
  {
   "cell_type": "markdown",
   "metadata": {},
   "source": [
    "Para variáveis quantitativas há diversas formas de se representar o mesmo princípio."
   ]
  },
  {
   "cell_type": "markdown",
   "metadata": {},
   "source": [
    "Gráficos de barra (Bar plot)"
   ]
  },
  {
   "cell_type": "code",
   "execution_count": 9,
   "metadata": {},
   "outputs": [
    {
     "data": {
      "text/plain": [
       "<AxesSubplot:xlabel='Grau de Instrução', ylabel='count'>"
      ]
     },
     "execution_count": 9,
     "metadata": {},
     "output_type": "execute_result"
    },
    {
     "data": {
      "image/png": "[encoded data removed]",
      "text/plain": [
       "<Figure size 432x288 with 1 Axes>"
      ]
     },
     "metadata": {
      "needs_background": "light"
     },
     "output_type": "display_data"
    }
   ],
   "source": [
    "#Setando o estilo do tema do gráfico\n",
    "sns.set_theme(style=\"darkgrid\")\n",
    "#Fazendo um plot de um gráfico de barras com a contagem de cada variável qualitativa da coluna Grau de instrução\n",
    "sns.countplot(data = df_tabela_2_1, x = 'Grau de Instrução')"
   ]
  },
  {
   "cell_type": "markdown",
   "metadata": {},
   "source": [
    "Gráfico de setores ou gráfico de pizza (Pie Chart)"
   ]
  },
  {
   "cell_type": "code",
   "execution_count": 10,
   "metadata": {},
   "outputs": [
    {
     "data": {
      "text/plain": [
       "([<matplotlib.patches.Wedge at 0x26c020461f0>,\n",
       "  <matplotlib.patches.Wedge at 0x26c02046700>,\n",
       "  <matplotlib.patches.Wedge at 0x26c02046be0>],\n",
       " [Text(6.735557395310444e-17, 1.1, 'ensino médio'),\n",
       "  Text(-0.5499999702695119, -0.9526279613277874, 'ensino fundamental'),\n",
       "  Text(0.9526279870751432, -0.5499999256737775, 'superior')])"
      ]
     },
     "execution_count": 10,
     "metadata": {},
     "output_type": "execute_result"
    },
    {
     "data": {
      "image/png": "[encoded data removed]",
      "text/plain": [
       "<Figure size 864x576 with 1 Axes>"
      ]
     },
     "metadata": {},
     "output_type": "display_data"
    }
   ],
   "source": [
    "#Setando o estilo do tema do gráfico\n",
    "sns.set_theme(style=\"darkgrid\")\n",
    "\n",
    "df_count_grau_instrucao = df_tabela_2_1['Grau de Instrução'].value_counts().to_frame().reset_index()\n",
    "\n",
    "#Fazendo um plot de um gráfico de barras com a contagem de cada variável qualitativa da coluna Grau de instrução\n",
    "plt.figure(figsize=(12,8))\n",
    "plt.pie(x = df_count_grau_instrucao['Grau de Instrução'],labels=df_count_grau_instrucao['index'])\n",
    "\n",
    "\n",
    "#doc: https://matplotlib.org/stable/api/_as_gen/matplotlib.pyplot.pie.html"
   ]
  },
  {
   "cell_type": "markdown",
   "metadata": {},
   "source": [
    "#### 2.4.1 Gráfico para variáveis quantitativas"
   ]
  },
  {
   "cell_type": "markdown",
   "metadata": {},
   "source": [
    "Para variáveis quantitativas, podemos considerar uma variade maior de representações gráficas"
   ]
  },
  {
   "cell_type": "markdown",
   "metadata": {},
   "source": [
    "Gráfico de barras"
   ]
  },
  {
   "cell_type": "code",
   "execution_count": 11,
   "metadata": {},
   "outputs": [
    {
     "data": {
      "text/plain": [
       "<AxesSubplot:xlabel='N de Filhos', ylabel='count'>"
      ]
     },
     "execution_count": 11,
     "metadata": {},
     "output_type": "execute_result"
    },
    {
     "data": {
      "image/png": "[encoded data removed]",
      "text/plain": [
       "<Figure size 864x576 with 1 Axes>"
      ]
     },
     "metadata": {},
     "output_type": "display_data"
    }
   ],
   "source": [
    "# Gráfico de barras para variável quantitativa discreta\n",
    "sns.set_theme(style=\"darkgrid\")\n",
    "#Fazendo um plot de um gráfico de barras com a contagem de cada variável qualitativa da coluna Grau de instrução\n",
    "plt.figure(figsize=(12,8))\n",
    "sns.countplot(data = df_tabela_2_1, x = 'N de Filhos')"
   ]
  },
  {
   "cell_type": "markdown",
   "metadata": {},
   "source": [
    "Gráfico de dispersão unidimensional"
   ]
  },
  {
   "cell_type": "code",
   "execution_count": 12,
   "metadata": {},
   "outputs": [
    {
     "data": {
      "text/plain": [
       "<AxesSubplot:ylabel='N de Filhos'>"
      ]
     },
     "execution_count": 12,
     "metadata": {},
     "output_type": "execute_result"
    },
    {
     "data": {
      "image/png": "[encoded data removed]",
      "text/plain": [
       "<Figure size 864x576 with 1 Axes>"
      ]
     },
     "metadata": {},
     "output_type": "display_data"
    }
   ],
   "source": [
    "# Gráfico de dispersão unidimensional plotando apenas o valor máximo de cada variável\n",
    "sns.set_theme(style=\"darkgrid\")\n",
    "#Fazendo um plot de um gráfico de barras com a contagem de cada variável qualitativa da coluna Grau de instrução\n",
    "plt.figure(figsize=(12,8))\n",
    "sns.scatterplot(x = df_tabela_2_1['N de Filhos'].value_counts().index, y = df_tabela_2_1['N de Filhos'].value_counts())"
   ]
  },
  {
   "cell_type": "markdown",
   "metadata": {},
   "source": [
    "Histograma"
   ]
  },
  {
   "cell_type": "code",
   "execution_count": 13,
   "metadata": {},
   "outputs": [
    {
     "data": {
      "text/plain": [
       "<AxesSubplot:xlabel='Classe de Salários', ylabel='Count'>"
      ]
     },
     "execution_count": 13,
     "metadata": {},
     "output_type": "execute_result"
    },
    {
     "data": {
      "image/png": "[encoded data removed]",
      "text/plain": [
       "<Figure size 864x576 with 1 Axes>"
      ]
     },
     "metadata": {},
     "output_type": "display_data"
    }
   ],
   "source": [
    "#Criando uma classe para os salarios com amplitude de 4\n",
    "df_tabela_2_1['Classe de Salários'] = pd.cut(x =df_tabela_2_1['Salario (x Sal Min)'], bins = [4,8,12,16,20,24], labels = ['4,00 |-- 8,00','8,00 |-- 12,00','12,00 |-- 16,00','16,00 |-- 20,00','20,00 |-- 24,00'],include_lowest = True)\n",
    "#Gráfico para variável quantitativa contínua\n",
    "plt.figure(figsize=(12,8))\n",
    "sns.histplot(data = df_tabela_2_1, x = 'Classe de Salários')"
   ]
  },
  {
   "cell_type": "markdown",
   "metadata": {},
   "source": [
    "## 3 - Medidas-Resumo"
   ]
  },
  {
   "cell_type": "markdown",
   "metadata": {},
   "source": [
    "### 3.1 - Medidas de Posição"
   ]
  },
  {
   "cell_type": "markdown",
   "metadata": {},
   "source": [
    "Muitas vezes é necessário resumir os dados, apresentando um ou alguns valores que sejam representativos da série toda.\n",
    "Usualmente, emprega-se uma das seguintes medidas de posição (ou localização) central:\n",
    "\n",
    "    - Média\n",
    "    - Mediana\n",
    "    - Moda"
   ]
  },
  {
   "cell_type": "markdown",
   "metadata": {},
   "source": [
    "- **Moda** -> É definida como a realização mais frquente do conjunto de valores observados. Por exemplo, considere a variável Z, número de filhos de cada funcionário casado, resumida no df_tabela_2_1. Vemos que a moda é 2, correspondente a realização com maior frequência (aparece 7 vezes). Em alguns casos, pode haver mais de uma moda, ou seja, a distribuição dos valores pode ser bimodal,trimodal,etc."
   ]
  },
  {
   "cell_type": "code",
   "execution_count": 14,
   "metadata": {},
   "outputs": [
    {
     "name": "stdout",
     "output_type": "stream",
     "text": [
      "A moda da variável filhos para as pessoas de estado civil casado é: 2.0\n",
      "A frequência de vezes que esse valor aparece é de : 7\n"
     ]
    }
   ],
   "source": [
    "#Agrupando os valores da coluna Estado Civil e agregando os valores da coluna N de Filhos pela moda\n",
    "print(f\"A moda da variável filhos para as pessoas de estado civil casado é: {df_tabela_2_1.groupby(by = 'Estado Civil')['N de Filhos'].agg(pd.Series.mode)[0]}\")\n",
    "print(f\"A frequência de vezes que esse valor aparece é de : {df_tabela_2_1.groupby(by = 'Estado Civil')['N de Filhos'].value_counts().max()}\")"
   ]
  },
  {
   "cell_type": "markdown",
   "metadata": {},
   "source": [
    "- **Mediana** -> É a realização que ocupa a posição central das observações, quando estão ordenadas em ordem crescente. Assim, se as cinco observações de uma variável forem 3, 4,7, 8 e 8, a mediana é o valor 7, correspondente à terceira observação. Quando o número de observações for par, usa-se como mediana a média aritmética das duas observações centrais. Acrescentando-se o valor 9 a série acima, a mediana será (7 + 8)/2 = 7,5\n",
    "\n",
    "Para os valores de filhos das pessoas casadas do df_tabela_2_1 a mediana também é 2."
   ]
  },
  {
   "cell_type": "code",
   "execution_count": 15,
   "metadata": {},
   "outputs": [
    {
     "name": "stdout",
     "output_type": "stream",
     "text": [
      "A mediana da variável filhos para as pessoas de estado civil casado é: 2.0\n"
     ]
    }
   ],
   "source": [
    "#Agrupando os valores da coluna Estado Civil e agregando os valores da coluna N de Filhos pela mediana\n",
    "print(f\"A mediana da variável filhos para as pessoas de estado civil casado é: {df_tabela_2_1.groupby(by = 'Estado Civil')['N de Filhos'].agg(pd.Series.median)[0]}\")"
   ]
  },
  {
   "cell_type": "markdown",
   "metadata": {},
   "source": [
    "Média Aritmética -> É a soma das observações dividida pelo número delas.\n",
    "\n",
    "$$\\dfrac{4*0+5*1+7*2+3*3+5*1}{20} = \\dfrac{33}{20} = 1.65 $$"
   ]
  },
  {
   "cell_type": "code",
   "execution_count": 16,
   "metadata": {},
   "outputs": [
    {
     "name": "stdout",
     "output_type": "stream",
     "text": [
      "A média aritmética da variável filhos para as pessoas de estado civil casado é: 1.65\n"
     ]
    }
   ],
   "source": [
    "#Calculo da média aritmética\n",
    "print(f\"A média aritmética da variável filhos para as pessoas de estado civil casado é: {df_tabela_2_1.groupby(by = 'Estado Civil')['N de Filhos'].agg(pd.Series.mean)[0]}\")"
   ]
  },
  {
   "cell_type": "markdown",
   "metadata": {},
   "source": [
    "**Formalizando os conceitos**\n",
    "\n",
    "se $x1,...xn$ são os n valores (distintos ou não) da variável X, a média aritmética ou simplesmente média, de X pode ser descrita como:\n",
    "\n",
    "$$\\dfrac{ x1 + ... + xn}{n} = \\dfrac{1}{n} \\mathrm\\sum_{i=1}^{n} xi$$\n",
    "\n",
    "Agora se tiverem $n$ observações da variável X, das quais $n1$ são iguaisa $x1$, n2 são iguais a $x2$ etc., $nk$ iguais a $x1$, então a média de X pode ser descrita\n",
    "\n",
    "$$\\bar x = \\dfrac{ n1x1 + n2x2 ... + nkxk}{n} = \\dfrac{1}{n} \\mathrm\\sum_{i=1}^{k} nixi$$\n",
    "\n",
    "Se $fi = ni/n$ representar a frequência relativa da observação $xi$, então a equação anterior também pode ser escrita como\n",
    "\n",
    "$$\\bar x = \\mathrm\\sum_{i=1}^{k} fixi$$\n",
    "\n",
    "Consideramos, agora, as observações ordenadas em ordem crescente. Vamos denotar a menor observação por $x(1)$, a segunda por $x(2)$ e assim por diante, obtendo-se\n",
    "\n",
    "$$ x(1) \\leq x(2) \\leq ... \\leq x(n-1) \\leq x(n)$$\n",
    "\n",
    "Por exemplo, se $x_1$ = 3, $x_2$ = -2, $x_3$ = 6, $x_4$ = 1, $x_5$ = 3, então $-2 \\leq 1 \\leq 3 \\leq 3 \\leq 6$, de modo que $x_1 = -2, x_2 = 1, x_3 = 3, x_4 = 3 , x_5 = 6$.\n",
    "\n",
    "As observações ordenadads como a equação anterior são chamadas de *estatísticas de ordem*.\n",
    "\n",
    "\n"
   ]
  },
  {
   "cell_type": "markdown",
   "metadata": {},
   "source": [
    "### 3.2 - Medidas de Dispersão"
   ]
  },
  {
   "cell_type": "markdown",
   "metadata": {},
   "source": [
    "O resumo de um conjunto de dados por uma única medida representativa de posição central esconde toda a informação sobre a variabilidade do conjunto de observações. Por exemplo, suponhamos que cinco grupos de alunos submeteram-se a um teste, no qual obtiveram as seguintes notas:\n",
    "\n",
    "Grupo A (Variável X) -> 3,4,5,6,7\n",
    "\n",
    "Grupo B (Variável Y) -> 1,3,5,7,9\n",
    "\n",
    "Grupo C (Variável Z) -> 5,5,5,5,5\n",
    "\n",
    "Grupo D (Variável W) -> 3,5,5,7\n",
    "\n",
    "Grupo E (Variável V) -> 3,5,5,6,6\n"
   ]
  },
  {
   "cell_type": "code",
   "execution_count": 17,
   "metadata": {},
   "outputs": [
    {
     "name": "stdout",
     "output_type": "stream",
     "text": [
      "Média Grupo A: 5.0\n",
      "Média Grupo B: 5.0\n",
      "Média Grupo C: 5.0\n",
      "Média Grupo D: 5.0\n",
      "Média Grupo E: 5.0\n"
     ]
    }
   ],
   "source": [
    "#Calculo das médias\n",
    "print(f\"Média Grupo A: {np.mean([3,4,5,6,7])}\")\n",
    "print(f\"Média Grupo B: {np.mean([1,3,5,7,9])}\")\n",
    "print(f\"Média Grupo C: {np.mean([5,5,5,5,5])}\")\n",
    "print(f\"Média Grupo D: {np.mean([3,5,5,7])}\")\n",
    "print(f\"Média Grupo E: {np.mean([3,5,5,6,6])}\")"
   ]
  },
  {
   "cell_type": "markdown",
   "metadata": {},
   "source": [
    "Vemos que a média das cinco distribuições é igual a 5 $\\bar x = \\bar y = \\bar z = \\bar w = \\bar v = 5,0$.\n",
    "\n",
    "A identificação de cada uma destas séries por sua média (5, em todos os casos) nada informa sobre suas diferentes variablidades.\n",
    "\n",
    "Notamos então que é preciso criar medidas que nos permitam ver a variablidade de um conjunto de dados.\n",
    "Um critério é aquele que mede a dispersão dos dados em torno de sua média, e duas medidas são as mais usadas: desvio médio e variância.\n",
    "O princípio básico é analisar os desvios das observações em relação à média dessas observações.\n",
    "\n",
    "Para o grupo A acima os desvios $x_i - \\bar x$ são: -2, -1, 0 ,1 ,2. É fácil ver que a soma dos desvios é igual a zero.\n",
    "\n",
    "Nessas condições a soma dos desvios $\\mathrm\\sum_{i=1}^{5} (x_i - \\bar x)$ não é uma boa medida para o grupo A. Duas opções são: Considerar o total dos desvios em valor absoluto ou considerar o total dos quadrados dos desvios. Para o grupo A teríamos, respectivamente:\n",
    "\n",
    "$$\\mathrm\\sum_{i=1}^{5} \\begin{vmatrix} x_i - \\bar x\\end{vmatrix} = 2 + 1 + 0 + 1 + 2 = 6 $$\n",
    "\n",
    "$$\\mathrm\\sum_{i=1}^{5} (x_i - \\bar x)^2  = 4 + 1 + 0 + 1 + 4 = 10 $$\n",
    "\n",
    "O uso desses totais pode causar dificuldades quando comparamos conjuntos de dados com números diferentes de observações, como os conjuntos A e D acima. Desse modo, é mais conveniente exprimir as medidas como médias, isto é, o desvio médio e a variância são definidos por\n",
    "\n",
    "$$ dm(X) = \\dfrac{\\mathrm\\sum_{i=1}^{n} \\begin{vmatrix}  x_i - \\bar x \\end{vmatrix} }{n} $$\n",
    "\n",
    "$$ var(X) = \\dfrac{\\mathrm\\sum_{i=1}^{n} (x_i - \\bar x)^2 }{n} $$\n",
    "\n",
    "dessa forma temos para o grupo A\n",
    "\n",
    "$$dm(X) = 6/5 = 1.2$$\n",
    "\n",
    "$$var(X) = 10/5 = 2.0$$\n",
    "\n",
    "Enquanto que para o grupo D teríamos\n",
    "\n",
    "$$dm(X) = 4/4= 1.0$$\n",
    "\n",
    "$$var(X) = 8/4 = 2.0$$\n",
    "\n",
    "Podemos concluir que segundo o desvio médio o grupo D é mais homogêneo que o A, enquanto ambos são igualmente homogêneos segundo a variância.\n",
    "\n",
    "Sendo a variância uma medida de dimensão igual ao quadrado da dimensão dos dados (exemplo: se os dados são expressos em cm a variância será expressa em cm²) pode causar má interpretação. Entãoi utiliza-se o desvio padrão, que é definido como a raiz quadrada positiva da variância. Para o Grupo A temos o desvio padrão de:\n",
    "\n",
    "$$ dp(X) = \\sqrt{var(x)} = \\sqrt{2} = 1.41 $$\n",
    "\n",
    "Concluindo, ambas as medidas apresentam o \"erro\" (desvio) cometido ao tentar substituir os valores por uma medida de resumo do conjunto. Ou seja a média do grupo A é de 5.0 com um desvio de 1.41 para cima ou para baixo.\n"
   ]
  },
  {
   "cell_type": "code",
   "execution_count": 23,
   "metadata": {},
   "outputs": [
    {
     "name": "stdout",
     "output_type": "stream",
     "text": [
      "O desvio padrão é de 1.27\n"
     ]
    }
   ],
   "source": [
    "#Exemplo Calculando o desvio padrão para a variável número de filhos\n",
    "\n",
    "print(f\"O desvio padrão é de {round(df_tabela_2_1.groupby(by = 'Estado Civil')['N de Filhos'].agg(pd.Series.std)[0],2)}\")"
   ]
  },
  {
   "cell_type": "markdown",
   "metadata": {},
   "source": [
    "### 3.3 - Quantis Empíricos"
   ]
  },
  {
   "cell_type": "markdown",
   "metadata": {},
   "source": [
    "Tanto a média quanto o desvio padrão podem não ser medidas adequadas para representar um conjunto de dados pois:\n",
    "\n",
    "a) São afetados de forma exagerada por valores extremos\n",
    "\n",
    "b) Apenas com estes dois valores não é possível ter ideia da simetria ou assimetria da distribuição dos dados.\n",
    "\n",
    "Para contornar esses fatos, outras medidas precisam ser consideradas.\n",
    "\n",
    "Podemos definir uma medida chamada *quantil de ordem p* ou p-quantil, indicada por q(p), em que p é a proporção qualquer, 0 < p < 1, tal que 100p% das observações sejam menores que q(p). Exemplos:\n",
    "\n",
    "q(0,25) = $q_1$ : 1º Quartil = 25º percentil -> 1º quartil da amostra p ou seja o valor que define o primeiro quartil dessa amostra\n",
    "\n",
    "q(0,50) = $q_2$ : 2º Quartil (mediana) = 50º percentil -> Valor que define o 2º quartil da amostra p e também a mediana.\n",
    "\n",
    "q(0,75) $q_3$ : 3º Quartil  = 75º percentil -> Valor que define o 3º quartil da amostra p.\n",
    "\n",
    "q(0,40) $q_4$ : 4º Decil -> Assim como o quartil é divido em quatro partes o decil é divido em 10 partes da amostra.\n",
    "\n",
    "q(0,95) $q_5$ : 95º Percentil -> Também é possível dividir em percentis ou seja em 100 partes da amostra\n",
    "\n",
    "\n",
    "Para compreender melhor o motivo do uso dos quartis deve-se entender que existem medidas de localização ou dispersão resistentes. Essas medidas são resistentes, ou pouco afetadas, por mudanças de uma pequena porção dos dados (o que chamamos de outliers).\n",
    "\n",
    "Utilizando um exemplo do livro \"Como Mentir com Estatística\". \n",
    "\n",
    "Há 5 homens em um bar. Cada um deles tem a exata mesma renda mensal de 10 mil reais.\n",
    "\n",
    "Vamos calcular a média aritmética da renda mensal desses homens:\n",
    "\n",
    "$$ \\dfrac{10.000,00 * 5}{5} = 10.000,00 $$\n",
    "\n",
    "Podemos ver que a média de faturamento desses homens é de 10.000,00 reais o que é uma medida extramente acertiva. Temos um desvio padrão de 0.\n",
    "\n",
    "Nesse momento Bill Gates entra pela porta do bar com sua renda mensal de 2 bilhoes e se senta com os outros 5 homens.\n",
    "\n",
    "A partir desse momento a renda mensal média das 6 pessoas do bar é de aproximadamente 333,400 milhões de reais.\n",
    "\n",
    "Essa medida está completamente fora da realidade. Ou seja a média aritmética é extremamente afetada por valores fora da curva.\n",
    "\n",
    "Já a mediana é uma medida resistente aos outliers.\n",
    "\n",
    "Calculando a mediana das 6 pessoas no bar teremos um valor de 10.000,00 reais. O que explica muito melhor nossos dados.\n",
    "\n",
    "É nessa parte que os quartis também entram.\n",
    "\n",
    "O menor valor dos dados ($x_1$), $q_1$, $q_2$, $q_3$ e o maior valor dos dados ($x_n$) são importantes para saber o grau de assimetria da amostra.\n",
    "\n",
    "Uma amostra tem a sua distribuição considerada normal ou gaussiana quando 50% das observaçoes se concentram entre o 1 e o 3 quartil. Ou seja pelo menos metade dos dados se concentra ao redor da mediana, enquanto maior a distância menor a quantidade de dados da amostra.\n",
    "\n",
    "<center><img src=\"https://proeducacional.com/packages/uploads/2020/08/img_5f2ae87aaa0c2.png\"/></center>\n",
    "\n",
    "Para uma distribuição simétrica ou aproximadamente simétrica deveríamos ter:\n",
    "\n",
    "a) $q_2 - x_1 \\approx x_n - q_2$\n",
    "\n",
    "b) $q_2 - q_1 \\approx q_3 - q_2$\n",
    "\n",
    "c) $q_1 - x_1 \\approx x_n - q_3$\n",
    "\n",
    "d) Distâncias entre mediana e $q_1,q_3$ menores do que distâncias entre os extremos e $q_1,q_3$\n",
    "\n",
    "A diferença $q_2 = x_1$ é chamada dispersão inferior e $x_n - q_2$ é a dispersão superior.\n",
    "\n",
    "Ou seja as duas dispersões devem ser aproximadamente iguais para que uma distribuição seja aproximadamente simétrica.\n",
    "\n",
    "\n",
    "\n",
    "\n",
    "\n",
    "\n",
    "\n"
   ]
  },
  {
   "cell_type": "code",
   "execution_count": 47,
   "metadata": {},
   "outputs": [
    {
     "name": "stdout",
     "output_type": "stream",
     "text": [
      "O valor mínimo da amostra é -389.47639498941\n",
      "O valor máximo da amostra é 569.0817566764536\n",
      "O valor q1 da amostra é 18.045971279389104\n",
      "O valor q2 da amostra ou mediana é 98.97800750528663\n",
      "O valor q3 da amostra é 179.8413943693439\n",
      "--------------------------------------------\n",
      "488.45440249469664\n",
      "470.1037491711669\n",
      "Os valores da condição a são aproximadamente iguais\n",
      "--------------------------------------------\n",
      "80.93203622589752\n",
      "80.86338686405728\n",
      "Os valores da condição b são aproximadamente iguais\n",
      "--------------------------------------------\n",
      "407.5223662687991\n",
      "389.24036230710965\n",
      "Os valores da condição c são aproximadamente iguais\n"
     ]
    }
   ],
   "source": [
    "#Exemplo prático\n",
    "\n",
    "#Criando uma lista com valores randômicos e uma distribuição normal com a biblioteca numpy\n",
    "#Definimos a média dos dados como aproximadamente 100  e o desvio padrão como aproximadamente 120, com  10000 valores.\n",
    "#Essa função irá retornar uma lista com uma distribuição aproximadamente normal\n",
    "s = np.random.normal(100, 120, 10000)\n",
    "\n",
    "x1 = np.min(s)\n",
    "xn = np.max(s)\n",
    "q1 = np.quantile(s,0.25)\n",
    "q2 = np.quantile(s,0.50)\n",
    "q3 = np.quantile(s,0.75)\n",
    "\n",
    "\n",
    "#Vamos calcular o valor mínimo x1 o valor maximo xn e os quartis\n",
    "print(f'O valor mínimo da amostra é {x1}')\n",
    "print(f'O valor máximo da amostra é {xn}')\n",
    "print(f'O valor q1 da amostra é {q1}')\n",
    "print(f'O valor q2 da amostra ou mediana é {q2}')\n",
    "print(f'O valor q3 da amostra é {q3}')\n",
    "\n",
    "#Vamos agora fazer as verificações para confirmar que é uma distribuição normal\n",
    "\n",
    "#a) q2 - x1 = xn -q2\n",
    "print(\"--------------------------------------------\")\n",
    "print(q2 - x1)\n",
    "print(xn - q2)\n",
    "print(\"Os valores da condição a são aproximadamente iguais\")\n",
    "\n",
    "#b) q2 - q1 = q3 - q2\n",
    "print(\"--------------------------------------------\")\n",
    "print(q2 - q1)\n",
    "print(q3 - q2)\n",
    "print(\"Os valores da condição b são aproximadamente iguais\")\n",
    "\n",
    "#b) q2 - q1 = q3 - q2\n",
    "print(\"--------------------------------------------\")\n",
    "print(q1 - x1)\n",
    "print(xn - q3)\n",
    "print(\"Os valores da condição c são aproximadamente iguais\")\n",
    "\n",
    "\n"
   ]
  },
  {
   "cell_type": "code",
   "execution_count": 51,
   "metadata": {},
   "outputs": [
    {
     "data": {
      "text/plain": [
       "<AxesSubplot:ylabel='Count'>"
      ]
     },
     "execution_count": 51,
     "metadata": {},
     "output_type": "execute_result"
    },
    {
     "data": {
      "image/png": "[encoded data removed]",
      "text/plain": [
       "<Figure size 864x576 with 1 Axes>"
      ]
     },
     "metadata": {},
     "output_type": "display_data"
    }
   ],
   "source": [
    "#plotando a distribuição s\n",
    "sns.set_theme(style=\"darkgrid\")\n",
    "plt.figure(figsize=(12,8))\n",
    "sns.histplot(s,kde = True)"
   ]
  },
  {
   "cell_type": "markdown",
   "metadata": {},
   "source": [
    "### 3.4 - Box Plots"
   ]
  },
  {
   "cell_type": "code",
   "execution_count": null,
   "metadata": {},
   "outputs": [],
   "source": []
  }
 ],
 "metadata": {
  "kernelspec": {
   "display_name": "Python 3.9.12 64-bit",
   "language": "python",
   "name": "python3"
  },
  "language_info": {
   "codemirror_mode": {
    "name": "ipython",
    "version": 3
   },
   "file_extension": ".py",
   "mimetype": "text/x-python",
   "name": "python",
   "nbconvert_exporter": "python",
   "pygments_lexer": "ipython3",
   "version": "3.9.12"
  },
  "orig_nbformat": 4,
  "vscode": {
   "interpreter": {
    "hash": "c7a676abbc58fb72a4139e964996bdbf10c701e0b1ca7f6ed9a8294b6eab108e"
   }
  }
 },
 "nbformat": 4,
 "nbformat_minor": 2
}
