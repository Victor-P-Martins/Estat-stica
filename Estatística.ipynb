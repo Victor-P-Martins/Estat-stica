{
 "cells": [
  {
   "cell_type": "markdown",
   "metadata": {},
   "source": [
    "# Estudo de estatística com python"
   ]
  },
  {
   "cell_type": "markdown",
   "metadata": {},
   "source": [
    "Estudos baseados no livro Estatística Básica de Wilton de O. Bussab e Pedro A. Morettin"
   ]
  },
  {
   "cell_type": "markdown",
   "metadata": {},
   "source": [
    "Os dados utilizados se encontram em https://www.ime.usp.br/~pam/EstBas.html"
   ]
  },
  {
   "cell_type": "markdown",
   "metadata": {},
   "source": [
    "## 1 - Importações de bibliotecas importantes para as análises"
   ]
  },
  {
   "cell_type": "code",
   "execution_count": 2,
   "metadata": {},
   "outputs": [],
   "source": [
    "#Importação de bibliotecas\n",
    "import pandas as pd\n",
    "import sklearn as skl\n",
    "import matplotlib as plt\n",
    "import seaborn as sns\n",
    "import numpy as np"
   ]
  },
  {
   "cell_type": "markdown",
   "metadata": {},
   "source": [
    "## 2 - Resumo de Dados"
   ]
  },
  {
   "cell_type": "markdown",
   "metadata": {},
   "source": [
    "### 2.1 - Tipos de Variáveis"
   ]
  },
  {
   "cell_type": "markdown",
   "metadata": {},
   "source": [
    "Para esta parte utilizaremos a base de dados Tabela 2.1 que contém dados dos funcionarios de uma empresa"
   ]
  },
  {
   "cell_type": "code",
   "execution_count": 3,
   "metadata": {},
   "outputs": [],
   "source": [
    "# Lendo a tabela 2.1 do arquivo CSV\n",
    "df_tabela_2_1 = pd.read_csv(filepath_or_buffer=\"Tabela 2.1.csv\",encoding='latin1',delimiter=';')"
   ]
  },
  {
   "cell_type": "code",
   "execution_count": 4,
   "metadata": {},
   "outputs": [
    {
     "data": {
      "text/html": [
       "<div>\n",
       "<style scoped>\n",
       "    .dataframe tbody tr th:only-of-type {\n",
       "        vertical-align: middle;\n",
       "    }\n",
       "\n",
       "    .dataframe tbody tr th {\n",
       "        vertical-align: top;\n",
       "    }\n",
       "\n",
       "    .dataframe thead th {\n",
       "        text-align: right;\n",
       "    }\n",
       "</style>\n",
       "<table border=\"1\" class=\"dataframe\">\n",
       "  <thead>\n",
       "    <tr style=\"text-align: right;\">\n",
       "      <th></th>\n",
       "      <th>Estado Civil</th>\n",
       "      <th>Grau de Instrução</th>\n",
       "      <th>N de Filhos</th>\n",
       "      <th>Salario (x Sal Min)</th>\n",
       "      <th>Anos</th>\n",
       "      <th>Meses</th>\n",
       "      <th>Região de Procedência</th>\n",
       "    </tr>\n",
       "  </thead>\n",
       "  <tbody>\n",
       "    <tr>\n",
       "      <th>0</th>\n",
       "      <td>solteiro</td>\n",
       "      <td>ensino fundamental</td>\n",
       "      <td>NaN</td>\n",
       "      <td>4</td>\n",
       "      <td>26</td>\n",
       "      <td>3</td>\n",
       "      <td>interior</td>\n",
       "    </tr>\n",
       "    <tr>\n",
       "      <th>1</th>\n",
       "      <td>casado</td>\n",
       "      <td>ensino fundamental</td>\n",
       "      <td>1.0</td>\n",
       "      <td>4,56</td>\n",
       "      <td>32</td>\n",
       "      <td>10</td>\n",
       "      <td>capital</td>\n",
       "    </tr>\n",
       "    <tr>\n",
       "      <th>2</th>\n",
       "      <td>casado</td>\n",
       "      <td>ensino fundamental</td>\n",
       "      <td>2.0</td>\n",
       "      <td>5,25</td>\n",
       "      <td>36</td>\n",
       "      <td>5</td>\n",
       "      <td>capital</td>\n",
       "    </tr>\n",
       "    <tr>\n",
       "      <th>3</th>\n",
       "      <td>solteiro</td>\n",
       "      <td>ensino médio</td>\n",
       "      <td>NaN</td>\n",
       "      <td>5,73</td>\n",
       "      <td>20</td>\n",
       "      <td>10</td>\n",
       "      <td>outra</td>\n",
       "    </tr>\n",
       "    <tr>\n",
       "      <th>4</th>\n",
       "      <td>solteiro</td>\n",
       "      <td>ensino fundamental</td>\n",
       "      <td>NaN</td>\n",
       "      <td>6,26</td>\n",
       "      <td>40</td>\n",
       "      <td>7</td>\n",
       "      <td>outra</td>\n",
       "    </tr>\n",
       "  </tbody>\n",
       "</table>\n",
       "</div>"
      ],
      "text/plain": [
       "  Estado Civil   Grau de Instrução  N de Filhos Salario (x Sal Min)  Anos  \\\n",
       "0     solteiro  ensino fundamental          NaN                   4    26   \n",
       "1       casado  ensino fundamental          1.0                4,56    32   \n",
       "2       casado  ensino fundamental          2.0                5,25    36   \n",
       "3     solteiro        ensino médio          NaN                5,73    20   \n",
       "4     solteiro  ensino fundamental          NaN                6,26    40   \n",
       "\n",
       "   Meses Região de Procedência  \n",
       "0      3              interior  \n",
       "1     10               capital  \n",
       "2      5               capital  \n",
       "3     10                 outra  \n",
       "4      7                 outra  "
      ]
     },
     "execution_count": 4,
     "metadata": {},
     "output_type": "execute_result"
    }
   ],
   "source": [
    "# 5 Primeiras 5 aparições da Tabela 2.1\n",
    "df_tabela_2_1.head()"
   ]
  },
  {
   "cell_type": "markdown",
   "metadata": {},
   "source": [
    "Existem 7 variáveis no estudo.\n",
    "\n",
    "-   Estado Civil -> Solteiro ou Casado\n",
    "\n",
    "-   Grau de Instrução -> Ensino Fundamental, Ensino médio ou Ensino Superior\n",
    "\n",
    "-   N de Filhos -> Quantidade de filhos\n",
    "\n",
    "-   Salario(x Sal Min) -> Número de salários multiplicados pelo salário mínimo vigente\n",
    "\n",
    "-   Anos -> Idade da pessoa em anos completos\n",
    "\n",
    "-   Meses -> Idade da pessoa meses completos\n",
    "\n",
    "-   Região de Procedência -> Interior, Capital ou outra"
   ]
  },
  {
   "cell_type": "markdown",
   "metadata": {},
   "source": [
    "#### Tipos de variáveis"
   ]
  },
  {
   "cell_type": "markdown",
   "metadata": {},
   "source": [
    "**Quantitativas** -> Apresentam possíveis realizações números resultantes de contagens ou mensurações. \n",
    "\n",
    "    Exemplos: Número de Filhos, Salário, Idade em anos e Meses.\n",
    "\n",
    "**Qualitativas** -> Apresentam como possíveis realizações uma qualidade (ou atributo) do indivíduo pesquisado. \n",
    "\n",
    "    Exemplos: Estado Civil, Grau de instrução, Região de Procedência."
   ]
  },
  {
   "cell_type": "markdown",
   "metadata": {},
   "source": [
    "#### Variáveis Quantitativas\n"
   ]
  },
  {
   "cell_type": "markdown",
   "metadata": {},
   "source": [
    "Variáveis quantitativas podem ser dividas em dois grupos\n",
    "\n",
    "**Variáveis quantitativas discretas** -> Os valores formam um conjunto finito ou enumerável de números, que resultam frequentemente em uma contagem.\n",
    "\n",
    "    Exemplos: Número de Filhos (1,2,3,...n), Idade completa em anos\n",
    "\n",
    "**Variáveis quantitativas contínuas** -> Os valores pertencem a um intervalo de números reais e que resultam de uma mensuração.\n",
    "\n",
    "    Exemplos: Salário, Idade medida em anos e meses"
   ]
  },
  {
   "cell_type": "markdown",
   "metadata": {},
   "source": [
    "#### Variáveis Qualitativas"
   ]
  },
  {
   "cell_type": "markdown",
   "metadata": {},
   "source": [
    "Variáveis qualitativas também se dividem em dois grupos\n",
    "\n",
    "**Variáveis Qualitativas Nominais** -> Variáveis para qual não existe nenhum tipo de ordenação.\n",
    "\n",
    "    Exemplo: Estado Civil, Região de procedência\n",
    "\n",
    "**Variáveis Qualitativas Ordinais** -> Variáveis para qual existe uma ordem no seu resultado\n",
    "\n",
    "    Exemplo: Grau de instrução (O mais baixo é o nível fundamental, médio, superior e assim por diante)"
   ]
  },
  {
   "cell_type": "markdown",
   "metadata": {},
   "source": [
    "<center><img src=\"https://www.inf.ufsc.br/~andre.zibetti/probabilidade/img/classificacao_variaveis.png\"/></center>"
   ]
  },
  {
   "cell_type": "markdown",
   "metadata": {},
   "source": [
    "### 2.2 Distribuição de frequências"
   ]
  },
  {
   "cell_type": "markdown",
   "metadata": {},
   "source": [
    "Quando se estuda uma variável, o maior interesse é conhecer o comportamento dessa variável, analisando a ocorrência de suas possíveis realizações."
   ]
  },
  {
   "cell_type": "code",
   "execution_count": 5,
   "metadata": {},
   "outputs": [
    {
     "data": {
      "text/plain": [
       "ensino médio          18\n",
       "ensino fundamental    12\n",
       "superior               6\n",
       "Name: Grau de Instrução, dtype: int64"
      ]
     },
     "execution_count": 5,
     "metadata": {},
     "output_type": "execute_result"
    }
   ],
   "source": [
    "#Frequência (absoluta) do Grau de instrução (n1)\n",
    "df_tabela_2_1['Grau de Instrução'].value_counts()"
   ]
  },
  {
   "cell_type": "code",
   "execution_count": 6,
   "metadata": {},
   "outputs": [
    {
     "data": {
      "text/plain": [
       "ensino médio          0.500000\n",
       "ensino fundamental    0.333333\n",
       "superior              0.166667\n",
       "Name: Grau de Instrução, dtype: float64"
      ]
     },
     "execution_count": 6,
     "metadata": {},
     "output_type": "execute_result"
    }
   ],
   "source": [
    "#Proporção do grau de instrução ou frequência relativa (fi = n1/n)\n",
    "df_tabela_2_1['Grau de Instrução'].value_counts()/df_tabela_2_1['Grau de Instrução'].count()"
   ]
  },
  {
   "cell_type": "code",
   "execution_count": 7,
   "metadata": {},
   "outputs": [
    {
     "data": {
      "text/plain": [
       "ensino médio          50.000000\n",
       "ensino fundamental    33.333333\n",
       "superior              16.666667\n",
       "Name: Grau de Instrução, dtype: float64"
      ]
     },
     "execution_count": 7,
     "metadata": {},
     "output_type": "execute_result"
    }
   ],
   "source": [
    "#Proporção do grau de instrução em porcentagem ()\n",
    "(df_tabela_2_1['Grau de Instrução'].value_counts()/df_tabela_2_1['Grau de Instrução'].count())*100"
   ]
  },
  {
   "cell_type": "markdown",
   "metadata": {},
   "source": [
    "Observando os resultados vê-se que dos 36 empregados da companhia 12 tem ensino fundamental, 18 médio e 6 superior.\n",
    "\n",
    "Uma maneira útil de analisarmos esses dados é dividindo o valor de cada variável pelo total obtendo uma proporção em relação ao total da amostra.\n",
    "\n",
    "Multiplicando por 100 temos o percentual relativo daquela variável."
   ]
  },
  {
   "cell_type": "markdown",
   "metadata": {},
   "source": [
    "### 2.3 Escala de medidas"
   ]
  },
  {
   "cell_type": "markdown",
   "metadata": {},
   "source": [
    "Escalas de medidas são critérios para classificas variáveis, em função da escala adotada. Existem quatro escalas que podem ser consideradas\n",
    "\n",
    "-   **Escala Nominal** -> Escala nominal permite apenas identificar se uma medida é diferente da outra, assemelha-se ao boolean ou relação binária. Exemplo, uma variável sexo onde existem Masculino ou Feminino sendo masculino 1 e feminino 0, ou M e F e assim por diante.\n",
    "\n",
    "Medidas de posição apropriadas são: Moda\n",
    "  \n",
    "-   **Escala Ordinal** ->  De forma semelhante a Escala nominal definimos um número para a medida, porém, dessa vez a há uma ordenação na escala. Por exemplo o grau de instrução, onde 1 é o Ensino Fundamental, 2 o Ensino Médio e 3 o Ensino Superior. Dessa forma temos 3>2>1\n",
    "\n",
    "Medidas de posição apropriadas são: Mediana e Moda\n",
    "\n",
    "-   **Escala Intervalar** -> Nesta escala podemos afirmar que uma medida é igual ou diferente de outra, maior e o quanto maior que outra. Podemos quantificar a diferença da escala ordinal. É necessário uma origem arbitrária e uma unidade de medida. Exemplo, 0ºF é a origem e 1ºF é a unidade da escala de graus Fahrenheit. 0ºC não é igual a 0ºF. Para compararmos as duas medidas precisamos de uma transformação, no caso para transformar F em C é preciso usar a formula y=5/9(x-32)\n",
    "\n",
    "Medidas de posição apropriadas são: Média, mediana e moda.  \n",
    "\n",
    "-   **Escala Razão** -> Nesta escala semelhante a escala intervalar é possível comparar medidas, se são iguais, maiores, o quanto maiores e quantas vezes maior. A diferença principal é que a Escala razão possui um zero absoluto. Por exemplo, a unidade de medida da altura é o cm. Todas as alturas começam em 0 cm. Mesmo alterando a unidade para metros as equivalências e comparações permanecem.\n",
    "\n",
    "Medidas de posição apropriadas são: Média, mediana e moda. "
   ]
  },
  {
   "cell_type": "markdown",
   "metadata": {},
   "source": [
    "### 2.4 Gráficos"
   ]
  },
  {
   "cell_type": "markdown",
   "metadata": {},
   "source": [
    "#### 2.4.1 Gráficos para Variáveis Qualitativas"
   ]
  },
  {
   "cell_type": "markdown",
   "metadata": {},
   "source": [
    "Para variáveis quantitativas há diversas formas de se representar o mesmo princípio."
   ]
  },
  {
   "cell_type": "markdown",
   "metadata": {},
   "source": [
    "Gráficos de barra (Bar plot)"
   ]
  },
  {
   "cell_type": "code",
   "execution_count": 8,
   "metadata": {},
   "outputs": [],
   "source": [
    "#Importando matplotlib e seaborn bibliotecas de plotagem de gráficos\n",
    "import matplotlib as plt\n",
    "import seaborn as sns"
   ]
  },
  {
   "cell_type": "code",
   "execution_count": 9,
   "metadata": {},
   "outputs": [
    {
     "data": {
      "text/plain": [
       "<AxesSubplot:xlabel='Grau de Instrução', ylabel='count'>"
      ]
     },
     "execution_count": 9,
     "metadata": {},
     "output_type": "execute_result"
    },
    {
     "data": {
      "image/png": "[encoded data removed]",
      "text/plain": [
       "<Figure size 432x288 with 1 Axes>"
      ]
     },
     "metadata": {},
     "output_type": "display_data"
    }
   ],
   "source": [
    "#Setando o estilo do tema do gráfico\n",
    "sns.set_theme(style=\"darkgrid\")\n",
    "#Fazendo um plot de um gráfico de barras com a contagem de cada variável qualitativa da coluna Grau de instrução\n",
    "sns.countplot(data = df_tabela_2_1, x = 'Grau de Instrução')"
   ]
  },
  {
   "cell_type": "markdown",
   "metadata": {},
   "source": [
    "Gráfico de setores ou gráfico de pizza (Pie Chart)"
   ]
  },
  {
   "cell_type": "code",
   "execution_count": 10,
   "metadata": {},
   "outputs": [
    {
     "data": {
      "text/plain": [
       "([<matplotlib.patches.Wedge at 0x1c509db19d0>,\n",
       "  <matplotlib.patches.Wedge at 0x1c509db1e50>,\n",
       "  <matplotlib.patches.Wedge at 0x1c509dc4370>],\n",
       " [Text(6.735557395310444e-17, 1.1, 'ensino médio'),\n",
       "  Text(-0.5499999702695119, -0.9526279613277874, 'ensino fundamental'),\n",
       "  Text(0.9526279870751432, -0.5499999256737775, 'superior')])"
      ]
     },
     "execution_count": 10,
     "metadata": {},
     "output_type": "execute_result"
    },
    {
     "data": {
      "image/png": "[encoded data removed]",
      "text/plain": [
       "<Figure size 432x288 with 1 Axes>"
      ]
     },
     "metadata": {},
     "output_type": "display_data"
    }
   ],
   "source": [
    "#Setando o estilo do tema do gráfico\n",
    "sns.set_theme(style=\"darkgrid\")\n",
    "\n",
    "df_count_grau_instrucao = df_tabela_2_1['Grau de Instrução'].value_counts().to_frame().reset_index()\n",
    "\n",
    "#Fazendo um plot de um gráfico de barras com a contagem de cada variável qualitativa da coluna Grau de instrução\n",
    "plt.pyplot.pie(x = df_count_grau_instrucao['Grau de Instrução'],labels=df_count_grau_instrucao['index'])\n",
    "\n",
    "#doc: https://matplotlib.org/stable/api/_as_gen/matplotlib.pyplot.pie.html"
   ]
  },
  {
   "cell_type": "markdown",
   "metadata": {},
   "source": [
    "#### 2.4.1 Gráfico para variáveis quantitativas"
   ]
  },
  {
   "cell_type": "markdown",
   "metadata": {},
   "source": [
    "Para variáveis quantitativas, podemos considerar uma variade maior de representações gráficas"
   ]
  },
  {
   "cell_type": "code",
   "execution_count": 13,
   "metadata": {},
   "outputs": [
    {
     "data": {
      "text/plain": [
       "<AxesSubplot:xlabel='N de Filhos', ylabel='count'>"
      ]
     },
     "execution_count": 13,
     "metadata": {},
     "output_type": "execute_result"
    },
    {
     "data": {
      "image/png": "[encoded data removed]",
      "text/plain": [
       "<Figure size 432x288 with 1 Axes>"
      ]
     },
     "metadata": {},
     "output_type": "display_data"
    }
   ],
   "source": [
    "# Gráfico de barras para variável quantitativa\n",
    "sns.set_theme(style=\"darkgrid\")\n",
    "#Fazendo um plot de um gráfico de barras com a contagem de cada variável qualitativa da coluna Grau de instrução\n",
    "sns.countplot(data = df_tabela_2_1, x = 'N de Filhos')"
   ]
  },
  {
   "cell_type": "code",
   "execution_count": 16,
   "metadata": {},
   "outputs": [
    {
     "data": {
      "text/plain": [
       "<AxesSubplot:ylabel='N de Filhos'>"
      ]
     },
     "execution_count": 16,
     "metadata": {},
     "output_type": "execute_result"
    },
    {
     "data": {
      "image/png": "[encoded data removed]",
      "text/plain": [
       "<Figure size 432x288 with 1 Axes>"
      ]
     },
     "metadata": {},
     "output_type": "display_data"
    }
   ],
   "source": [
    "# Gráfico de dispersão unidimensional plotando apenas o valor máximo de cada variável\n",
    "sns.set_theme(style=\"darkgrid\")\n",
    "#Fazendo um plot de um gráfico de barras com a contagem de cada variável qualitativa da coluna Grau de instrução\n",
    "sns.scatterplot(x = df_tabela_2_1['N de Filhos'].value_counts().index, y = df_tabela_2_1['N de Filhos'].value_counts())"
   ]
  },
  {
   "cell_type": "code",
   "execution_count": 19,
   "metadata": {},
   "outputs": [
    {
     "data": {
      "text/plain": [
       "<AxesSubplot:xlabel='N de Filhos', ylabel='N de Filhos'>"
      ]
     },
     "execution_count": 19,
     "metadata": {},
     "output_type": "execute_result"
    },
    {
     "data": {
      "image/png": "[encoded data removed]",
      "text/plain": [
       "<Figure size 432x288 with 1 Axes>"
      ]
     },
     "metadata": {},
     "output_type": "display_data"
    }
   ],
   "source": [
    "sns.stripplot(x=df_tabela_2_1['N de Filhos'].index, y=df_tabela_2_1['N de Filhos'], data=df_tabela_2_1, jitter=0.05)"
   ]
  },
  {
   "cell_type": "code",
   "execution_count": null,
   "metadata": {},
   "outputs": [],
   "source": []
  }
 ],
 "metadata": {
  "kernelspec": {
   "display_name": "Python 3.9.7 ('VictorEnviroment')",
   "language": "python",
   "name": "python3"
  },
  "language_info": {
   "codemirror_mode": {
    "name": "ipython",
    "version": 3
   },
   "file_extension": ".py",
   "mimetype": "text/x-python",
   "name": "python",
   "nbconvert_exporter": "python",
   "pygments_lexer": "ipython3",
   "version": "3.9.7"
  },
  "orig_nbformat": 4,
  "vscode": {
   "interpreter": {
    "hash": "ab01a5857638596979c1773e7a64c1bdd1ad50f65d3917682a88a02de467ca35"
   }
  }
 },
 "nbformat": 4,
 "nbformat_minor": 2
}
